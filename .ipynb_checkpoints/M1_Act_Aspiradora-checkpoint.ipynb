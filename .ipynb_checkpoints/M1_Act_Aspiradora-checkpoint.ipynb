{
 "cells": [
  {
   "cell_type": "markdown",
   "id": "bd6b9970-18f3-47eb-8b83-818823284123",
   "metadata": {},
   "source": [
    "# M1. Actividad - Agente Aspiradora"
   ]
  },
  {
   "cell_type": "markdown",
   "id": "12c3d527-e762-4359-aab8-51e152e11997",
   "metadata": {},
   "source": [
    "**Jessica Nicole Copado Leal - A01637876**"
   ]
  },
  {
   "cell_type": "code",
   "execution_count": 1,
   "id": "04b2bd6c-5c20-4178-b94d-0c75e08297d7",
   "metadata": {},
   "outputs": [],
   "source": [
    "# Import libraries\n",
    "\n",
    "# Model design\n",
    "import agentpy as ap\n",
    "\n",
    "# Visualization\n",
    "import matplotlib.pyplot as plt\n",
    "import seaborn as sns\n",
    "import IPython\n",
    "import random"
   ]
  },
  {
   "cell_type": "code",
   "execution_count": 2,
   "id": "4d58e294-5e5c-46cf-9a07-e36fb6cd7467",
   "metadata": {},
   "outputs": [
    {
     "ename": "SyntaxError",
     "evalue": "cannot assign to function call (<ipython-input-2-4d33822c8864>, line 49)",
     "output_type": "error",
     "traceback": [
      "\u001b[1;36m  File \u001b[1;32m\"<ipython-input-2-4d33822c8864>\"\u001b[1;36m, line \u001b[1;32m49\u001b[0m\n\u001b[1;33m    len(dirtiness) = 0\u001b[0m\n\u001b[1;37m    ^\u001b[0m\n\u001b[1;31mSyntaxError\u001b[0m\u001b[1;31m:\u001b[0m cannot assign to function call\n"
     ]
    }
   ],
   "source": [
    "# Class that models the vacuum simulation with three phases: \n",
    "# 1. The initial setup of the agents and the environment\n",
    "# 2. The process of vacumming depending on the condition (0, 1, 2)\n",
    "# 3. The final process that checks whether it's done vacuuming\n",
    "\n",
    "class Vacuum(ap.Model):\n",
    "\n",
    "    def setup(self):\n",
    "\n",
    "        # Create agents (tiles and vacuums)\n",
    "        n_vacuums = int(self.p['Number of vacuum cleaners'])\n",
    "        n_dirtyTiles = int(self.p['Dirty tiles percentage'] * (self.p.size**2))\n",
    "        \n",
    "        vacuums = self.vacuumAgents = ap.AgentList(self, n_vacuums)\n",
    "        dirtyTiles = self.dirtyTilesAgents = ap.AgentList(self, self.p.size**2)\n",
    "\n",
    "        # Initiate a dynamic variable for all agents\n",
    "        # Condition 0: Dirty, 1: Clean, 2: Vacuum\n",
    "        dirtyTiles.condition = 1\n",
    "        dirtiness = dirtyTiles.random(n_dirtyTiles)\n",
    "        dirtiness.condition = 0\n",
    "      \n",
    "        vacuums.condition = 2\n",
    "        coordinate = (1,1)\n",
    "        coordinates = [coordinate] * n_vacuums\n",
    "        \n",
    "        # Create grid (room)\n",
    "        self.room = ap.Grid(self, [self.p.size]*2, track_empty=True)\n",
    "        self.room.add_agents(dirtyTiles, random=True, empty=True)\n",
    "        self.room.add_agents(vacuums, positions=coordinates, empty= True)\n",
    "\n",
    "\n",
    "    def step(self):\n",
    "        # Select tile being cleaned\n",
    "        vacuumPositions = self.vacuumAgents.select(self.vacuumAgents.condition == 2)\n",
    "        self.vacuumCleanerMovements = 0\n",
    "        \n",
    "        # Cleaning process\n",
    "        for cleaner in vacuumPositions:\n",
    "            for neighbor in self.room.neighbors(cleaner, distance=0):\n",
    "                self.vacuumCleanerMovements += 1\n",
    "                if neighbor.condition == 0:\n",
    "                    neighbor.condition = 1\n",
    "                if neighbor.condition == 2:\n",
    "                    pass\n",
    "            self.room.move_by(cleaner,(random.randrange(-1,2),random.randrange(-1,2)))\n",
    "        \n",
    "        dirtiness = self.dirtyTilesAgents.select(self.dirtyTilesAgents.condition == 0)\n",
    "\n",
    "        # Stop simulation if all tiles are cleaned\n",
    "        if len(dirtiness) == 0:\n",
    "            cleaned_tiles = len(self.dirtyTilesAgents.select(self.dirtyTilesAgents.condition == 1))\n",
    "            self.report('Percentage of cleaned tiles', cleaned_tiles / len(self.dirtyTilesAgents))\n",
    "            self.report('Steps', model.t)\n",
    "            self.report('Movements', model.vacuumCleanerMovements) \n",
    "            self.stop()  \n",
    "\n",
    "    def end(self):\n",
    "\n",
    "        # Document a measure at the end of the simulation\n",
    "        cleaned_tiles = len(self.dirtyTilesAgents.select(self.dirtyTilesAgents.condition == 1))\n",
    "        self.report('Percentage of cleaned tiles', cleaned_tiles / len(self.dirtyTilesAgents))\n",
    "        self.report('Steps', model.t)\n",
    "        self.report('Movements', model.vacuumCleanerMovements) \n",
    "        "
   ]
  },
  {
   "cell_type": "code",
   "execution_count": null,
   "id": "aad4788b-40c8-4c03-a031-98d51ab806a4",
   "metadata": {},
   "outputs": [],
   "source": [
    "# Define parameters\n",
    "\n",
    "parameters = {\n",
    "    'Number of vacuum cleaners': 200,\n",
    "    'Dirty tiles percentage': 0.7, # Percentage of grid covered by dirt\n",
    "    'size': 40, # Height and length of the room\n",
    "    'steps': 300,\n",
    "}"
   ]
  },
  {
   "cell_type": "code",
   "execution_count": null,
   "id": "522b3cab-bd93-4b0b-a510-b6cdb5ffe5ea",
   "metadata": {},
   "outputs": [],
   "source": [
    "# Create single-run animation with custom colors\n",
    "\n",
    "def animation_plot(model, ax):\n",
    "    attr_grid = model.room.attr_grid('condition')\n",
    "    color_dict = {0:'#808080', 2:'#fff2cc', 1:'#ffffff', None:'#eeeeee'}\n",
    "    ap.gridplot(attr_grid, ax=ax, color_dict=color_dict, convert=True)\n",
    "    ax.set_title(f\"Simulation of a vacuum cleaner in a room\\n\"\n",
    "                 f\"Time-step: {model.t}, Tiles left to be cleaned: \"\n",
    "                 f\"{len(model.dirtyTilesAgents.select(model.dirtyTilesAgents.condition == 0))}\")\n",
    "\n",
    "fig, ax = plt.subplots()\n",
    "model = Vacuum(parameters)\n",
    "model.record(model.vars)\n",
    "animation = ap.animate(model, fig, ax, animation_plot)\n",
    "IPython.display.HTML(animation.to_jshtml(fps=60))"
   ]
  },
  {
   "cell_type": "code",
   "execution_count": null,
   "id": "f8b99a27",
   "metadata": {},
   "outputs": [],
   "source": [
    "model.reporters"
   ]
  },
  {
   "cell_type": "code",
   "execution_count": null,
   "id": "de7b72a1-cf7e-40f2-9ff8-d892c7a83ce4",
   "metadata": {},
   "outputs": [],
   "source": [
    "# Change in parameters to obtain different outcomes\n",
    "\n",
    "# Prepare parameter sample\n",
    "parameters = {\n",
    "    'Number of vacuum cleaners': 40,\n",
    "    'Dirty tiles percentage': ap.Range(0.3, 0.6), # Percentage of grid covered by dirt\n",
    "    'size': 30, # Height and length of the room\n",
    "    'steps': 300,\n",
    "}\n",
    "sample = ap.Sample(parameters, n=20)\n",
    "\n",
    "# Perform experiment\n",
    "exp = ap.Experiment(Vacuum, sample, iterations=20)\n",
    "results = exp.run()"
   ]
  },
  {
   "cell_type": "code",
   "execution_count": null,
   "id": "16ceacf0-d739-49b2-bf85-b2752ec4502c",
   "metadata": {},
   "outputs": [],
   "source": [
    "# Plot sensitivity\n",
    "sns.set_theme()\n",
    "sns.lineplot(\n",
    "    data=results.arrange_reporters(),\n",
    "    x='Dirty tiles percentage',\n",
    "    y='Percentage of cleaned tiles'\n",
    ");"
   ]
  }
 ],
 "metadata": {
  "kernelspec": {
   "display_name": "Python 3",
   "language": "python",
   "name": "python3"
  },
  "language_info": {
   "codemirror_mode": {
    "name": "ipython",
    "version": 3
   },
   "file_extension": ".py",
   "mimetype": "text/x-python",
   "name": "python",
   "nbconvert_exporter": "python",
   "pygments_lexer": "ipython3",
   "version": "3.8.8"
  }
 },
 "nbformat": 4,
 "nbformat_minor": 5
}
